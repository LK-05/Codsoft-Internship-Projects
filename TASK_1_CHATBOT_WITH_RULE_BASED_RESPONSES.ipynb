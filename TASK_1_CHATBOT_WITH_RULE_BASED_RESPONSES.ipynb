{
  "nbformat": 4,
  "nbformat_minor": 0,
  "metadata": {
    "colab": {
      "provenance": []
    },
    "kernelspec": {
      "name": "python3",
      "display_name": "Python 3"
    },
    "language_info": {
      "name": "python"
    }
  },
  "cells": [
    {
      "cell_type": "code",
      "source": [
        "import re\n",
        "import datetime\n",
        "\n",
        "# Define a function to handle user inputs\n",
        "def chatbot_response(user_input):\n",
        "    # Convert user input to lowercase for case-insensitive matching\n",
        "    user_input = user_input.lower()\n",
        "\n",
        "    # Define patterns for greetings and various user queries\n",
        "    greeting_patterns = [\"hi\", \"hello\", \"hey\", \"howdy\"]\n",
        "    weather_patterns = [\"weather\", \"forecast\", \"temperature\"]\n",
        "    news_patterns = [\"news\", \"headlines\", \"current events\"]\n",
        "    contact_patterns = [\"contact\", \"phone number\", \"email\"]\n",
        "    sports_patterns = [\"sports\", \"scores\", \"games\"]\n",
        "    alarm_patterns = [\"set alarm\", \"wake me up\"]\n",
        "    time_patterns = [\"time\", \"current time\", \"clock\"]\n",
        "    music_patterns = [\"play music\", \"music\"]\n",
        "\n",
        "    # Check if the user's input matches any greeting pattern\n",
        "    if any(pattern in user_input for pattern in greeting_patterns):\n",
        "        return \"Hello! How can I assist you today?\"\n",
        "\n",
        "    # Check if the user's input contains weather-related keywords\n",
        "    if any(pattern in user_input for pattern in weather_patterns):\n",
        "        return \"The weather today is sunny with a high of 25°C.\"\n",
        "\n",
        "    # Check for news-related queries\n",
        "    if any(pattern in user_input for pattern in news_patterns):\n",
        "        return \"Here are some top news headlines: [News headlines go here]\"\n",
        "\n",
        "    # Check for contact information queries\n",
        "    if any(pattern in user_input for pattern in contact_patterns):\n",
        "        return \"You can contact us at support@example.com or call us at +1-800-123-4567.\"\n",
        "\n",
        "    # Check for sports-related queries\n",
        "    if any(pattern in user_input for pattern in sports_patterns):\n",
        "        return \"The latest sports scores are: [Sports scores go here]\"\n",
        "\n",
        "    # Check for setting alarms\n",
        "    if any(pattern in user_input for pattern in alarm_patterns):\n",
        "        # You can implement alarm setting logic here\n",
        "        return \"Alarm set for 7:00 AM.\"\n",
        "\n",
        "    # Check for checking the time\n",
        "    if any(pattern in user_input for pattern in time_patterns):\n",
        "        current_time = datetime.datetime.now().strftime(\"%H:%M %p\")\n",
        "        return f\"The current time is {current_time}.\"\n",
        "\n",
        "    # Check for playing music\n",
        "    if any(pattern in user_input for pattern in music_patterns):\n",
        "        # You can implement music playback logic here\n",
        "        return \"Now playing your favorite music.\"\n",
        "\n",
        "    # If no specific pattern is matched, provide a default response\n",
        "    return \"I'm sorry, I didn't understand your query. Can you please rephrase it?\"\n",
        "\n",
        "# Main loop for chatbot interaction\n",
        "while True:\n",
        "    user_input = input(\"You: \")\n",
        "    if user_input.lower() == \"exit\":\n",
        "        print(\"Chatbot : Goodbye!\")\n",
        "        break\n",
        "    response = chatbot_response(user_input)\n",
        "    print(\"Chatbot:\", response)"
      ],
      "metadata": {
        "colab": {
          "base_uri": "https://localhost:8080/"
        },
        "id": "b42soJOLsTYD",
        "outputId": "e5ea50b0-c53d-452c-e2f1-c85ae6beb802"
      },
      "execution_count": null,
      "outputs": [
        {
          "output_type": "stream",
          "name": "stdout",
          "text": [
            "You: hello\n",
            "Chatbot: Hello! How can I assist you today?\n",
            "You: time\n",
            "Chatbot: The current time is 05:38 AM.\n",
            "You: sports\n",
            "Chatbot: The latest sports scores are: [Sports scores go here]\n",
            "You: contact\n",
            "Chatbot: You can contact us at support@example.com or call us at +1-800-123-4567.\n",
            "You: music\n",
            "Chatbot: Now playing your favorite music.\n"
          ]
        }
      ]
    }
  ]
}